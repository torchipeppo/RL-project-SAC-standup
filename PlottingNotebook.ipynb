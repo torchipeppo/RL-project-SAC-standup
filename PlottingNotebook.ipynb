{
 "cells": [
  {
   "cell_type": "markdown",
   "metadata": {},
   "source": [
    "# PLOTTING NOTEBOOK\n",
    "\n",
    "A notebook to produce and view simple plots of the data produced during experiments.\n",
    "\n",
    "N.B.: Make sure this notebook is in the repo root."
   ]
  },
  {
   "cell_type": "markdown",
   "metadata": {},
   "source": [
    "## Imports"
   ]
  },
  {
   "cell_type": "code",
   "execution_count": 1,
   "metadata": {},
   "outputs": [],
   "source": [
    "from pathlib import Path\n",
    "import re\n",
    "import numpy as np\n",
    "import pandas as pd\n",
    "import matplotlib.pyplot as plt"
   ]
  },
  {
   "cell_type": "markdown",
   "metadata": {},
   "source": [
    "## Select an experiment subfolder\n",
    "\n",
    "Use tha variable below to select an experiment to plot.\n",
    "Type in the name of a subfolder of saves."
   ]
  },
  {
   "cell_type": "code",
   "execution_count": 2,
   "metadata": {},
   "outputs": [],
   "source": [
    "experiment_subfolder = \"YYYY_MM_DD_hh_mm_ss\"   # <--- edit this\n",
    "\n",
    "main_dir = Path(\"saves\") / experiment_subfolder"
   ]
  },
  {
   "cell_type": "markdown",
   "metadata": {},
   "source": [
    "# Episode returns\n",
    "\n",
    "Cartesian plots of episode returns, for either training or test episodes"
   ]
  },
  {
   "cell_type": "markdown",
   "metadata": {},
   "source": [
    "## Reading files\n",
    "\n",
    "Go around all the \"ep*\" subfolders, find the episode info files with a given name, for each file compute the average return and insert it into a list as that epoch's return. End when an empty or nonexistent folder is found."
   ]
  },
  {
   "cell_type": "code",
   "execution_count": 3,
   "metadata": {},
   "outputs": [],
   "source": [
    "def find_epochs():\n",
    "    max_epoch=-1\n",
    "    for fldr in main_dir.iterdir():\n",
    "        if fldr.is_dir():\n",
    "            m = re.match(r\"^ep([0-9]+)$\", fldr.name)\n",
    "            if m:\n",
    "                epoch = int(m.group(1))\n",
    "                max_epoch = max(epoch, max_epoch)\n",
    "    return max_epoch\n",
    "\n",
    "def return_from_line(line):\n",
    "    tokens = line.split('\\t')\n",
    "    # elemento 0 : episode_duration (inutile, sempre costante in HumanoidStandup)\n",
    "    # elemento 1 : episode_return (utile)\n",
    "    return float(tokens[1])\n",
    "\n",
    "def read_returns(fname):\n",
    "    epochs = find_epochs()\n",
    "    returns = []\n",
    "    for epoch in range(epochs):   # esclude l'ultima cartella, ma pazienza, tanto è sempre vuota\n",
    "        epoch_dir = main_dir / \"ep{}\".format(epoch)\n",
    "        if not epoch_dir.exists():\n",
    "            break\n",
    "        file_path = epoch_dir / fname\n",
    "        if not file_path.exists():\n",
    "            break\n",
    "        with open(file_path, 'r') as f:\n",
    "            lines = f.readlines()\n",
    "        lines.pop(0)   # la prima riga è di intestazione, togliamola\n",
    "        # recuperiamo i ritorni dalle righe\n",
    "        this_epoch_returns = list(map(return_from_line, lines))\n",
    "        # facciamo la media\n",
    "        this_epoch_avg_return = np.mean(this_epoch_returns)\n",
    "        # e infine\n",
    "        returns.append(this_epoch_avg_return)\n",
    "    return returns"
   ]
  },
  {
   "cell_type": "markdown",
   "metadata": {},
   "source": [
    "## Plot stats (generic)\n",
    "\n",
    "With matplotlib.\n",
    "\n",
    "The \"raw\" plot will likely be very noisy, so I'll define a smoothed one too."
   ]
  },
  {
   "cell_type": "code",
   "execution_count": 4,
   "metadata": {},
   "outputs": [],
   "source": [
    "def plot_data(series, title, ylabel, xlabel=\"Episode\", smoothing_window=None, same_scale=False):\n",
    "    # prima i dati raw...\n",
    "    plt.figure(figsize=(10,5))\n",
    "    plt.plot(series)\n",
    "    plt.xlabel(xlabel)\n",
    "    plt.ylabel(ylabel)\n",
    "    plt.title(title)\n",
    "    # recuperiamo il range dell'asse y per riutilizzarlo nella seconda parte\n",
    "    ylim = plt.ylim()\n",
    "    plt.show()\n",
    "    # ...poi smoothed\n",
    "    if smoothing_window!=None:\n",
    "        plt.figure(figsize=(10,5))\n",
    "        # a dispetto del suo nome, \"series\" il più delle volte entra come lista\n",
    "        smoothed_series = pd.Series(series).rolling(smoothing_window, min_periods=smoothing_window).mean()\n",
    "        if same_scale:\n",
    "            # impostiamo il range dell'asse y allo stesso di prima\n",
    "            plt.ylim(ylim)\n",
    "        plt.plot(smoothed_series)\n",
    "        plt.xlabel(xlabel)\n",
    "        plt.ylabel(\"Smoothed \"+ylabel)\n",
    "        plt.title(title+\", smoothed with window size {}\".format(smoothing_window))\n",
    "        plt.show()"
   ]
  },
  {
   "cell_type": "markdown",
   "metadata": {},
   "source": [
    "## Main\n",
    "\n",
    "In which actual data is read and fed to the plotting functions to actually produce plots.\n",
    "\n",
    "Use the variable below to select which episodes to plot: train or test"
   ]
  },
  {
   "cell_type": "code",
   "execution_count": 5,
   "metadata": {},
   "outputs": [
    {
     "ename": "FileNotFoundError",
     "evalue": "[Errno 2] No such file or directory: 'saves/YYYY_MM_DD_hh_mm_ss'",
     "output_type": "error",
     "traceback": [
      "\u001b[0;31m---------------------------------------------------------------------------\u001b[0m",
      "\u001b[0;31mFileNotFoundError\u001b[0m                         Traceback (most recent call last)",
      "\u001b[0;32m<ipython-input-5-8b55e8699e7c>\u001b[0m in \u001b[0;36m<module>\u001b[0;34m\u001b[0m\n\u001b[1;32m      1\u001b[0m \u001b[0mstats_filename\u001b[0m \u001b[0;34m=\u001b[0m \u001b[0;34m\"test_ep_stats.txt\"\u001b[0m   \u001b[0;31m# <--- CHOOSE \"ep_stats.txt\" OR \"test_ep_stats.txt\"\u001b[0m\u001b[0;34m\u001b[0m\u001b[0;34m\u001b[0m\u001b[0m\n\u001b[1;32m      2\u001b[0m \u001b[0;34m\u001b[0m\u001b[0m\n\u001b[0;32m----> 3\u001b[0;31m \u001b[0mreturns\u001b[0m \u001b[0;34m=\u001b[0m \u001b[0mread_returns\u001b[0m\u001b[0;34m(\u001b[0m\u001b[0mstats_filename\u001b[0m\u001b[0;34m)\u001b[0m\u001b[0;34m\u001b[0m\u001b[0;34m\u001b[0m\u001b[0m\n\u001b[0m\u001b[1;32m      4\u001b[0m \u001b[0;34m\u001b[0m\u001b[0m\n\u001b[1;32m      5\u001b[0m \u001b[0mplot_data\u001b[0m\u001b[0;34m(\u001b[0m\u001b[0mreturns\u001b[0m\u001b[0;34m,\u001b[0m \u001b[0;34m\"Episode Cumulative Reward\"\u001b[0m\u001b[0;34m,\u001b[0m \u001b[0;34m\"Cumulative Reward\"\u001b[0m\u001b[0;34m,\u001b[0m \u001b[0msmoothing_window\u001b[0m\u001b[0;34m=\u001b[0m\u001b[0;36m5\u001b[0m\u001b[0;34m)\u001b[0m\u001b[0;34m\u001b[0m\u001b[0;34m\u001b[0m\u001b[0m\n",
      "\u001b[0;32m<ipython-input-3-2ae383f591cb>\u001b[0m in \u001b[0;36mread_returns\u001b[0;34m(fname)\u001b[0m\n\u001b[1;32m     16\u001b[0m \u001b[0;34m\u001b[0m\u001b[0m\n\u001b[1;32m     17\u001b[0m \u001b[0;32mdef\u001b[0m \u001b[0mread_returns\u001b[0m\u001b[0;34m(\u001b[0m\u001b[0mfname\u001b[0m\u001b[0;34m)\u001b[0m\u001b[0;34m:\u001b[0m\u001b[0;34m\u001b[0m\u001b[0;34m\u001b[0m\u001b[0m\n\u001b[0;32m---> 18\u001b[0;31m     \u001b[0mepochs\u001b[0m \u001b[0;34m=\u001b[0m \u001b[0mfind_epochs\u001b[0m\u001b[0;34m(\u001b[0m\u001b[0;34m)\u001b[0m\u001b[0;34m\u001b[0m\u001b[0;34m\u001b[0m\u001b[0m\n\u001b[0m\u001b[1;32m     19\u001b[0m     \u001b[0mreturns\u001b[0m \u001b[0;34m=\u001b[0m \u001b[0;34m[\u001b[0m\u001b[0;34m]\u001b[0m\u001b[0;34m\u001b[0m\u001b[0;34m\u001b[0m\u001b[0m\n\u001b[1;32m     20\u001b[0m     \u001b[0;32mfor\u001b[0m \u001b[0mepoch\u001b[0m \u001b[0;32min\u001b[0m \u001b[0mrange\u001b[0m\u001b[0;34m(\u001b[0m\u001b[0mepochs\u001b[0m\u001b[0;34m)\u001b[0m\u001b[0;34m:\u001b[0m   \u001b[0;31m# esclude l'ultima cartella, ma pazienza, tanto è sempre vuota\u001b[0m\u001b[0;34m\u001b[0m\u001b[0;34m\u001b[0m\u001b[0m\n",
      "\u001b[0;32m<ipython-input-3-2ae383f591cb>\u001b[0m in \u001b[0;36mfind_epochs\u001b[0;34m()\u001b[0m\n\u001b[1;32m      1\u001b[0m \u001b[0;32mdef\u001b[0m \u001b[0mfind_epochs\u001b[0m\u001b[0;34m(\u001b[0m\u001b[0;34m)\u001b[0m\u001b[0;34m:\u001b[0m\u001b[0;34m\u001b[0m\u001b[0;34m\u001b[0m\u001b[0m\n\u001b[1;32m      2\u001b[0m     \u001b[0mmax_epoch\u001b[0m\u001b[0;34m=\u001b[0m\u001b[0;34m-\u001b[0m\u001b[0;36m1\u001b[0m\u001b[0;34m\u001b[0m\u001b[0;34m\u001b[0m\u001b[0m\n\u001b[0;32m----> 3\u001b[0;31m     \u001b[0;32mfor\u001b[0m \u001b[0mfldr\u001b[0m \u001b[0;32min\u001b[0m \u001b[0mmain_dir\u001b[0m\u001b[0;34m.\u001b[0m\u001b[0miterdir\u001b[0m\u001b[0;34m(\u001b[0m\u001b[0;34m)\u001b[0m\u001b[0;34m:\u001b[0m\u001b[0;34m\u001b[0m\u001b[0;34m\u001b[0m\u001b[0m\n\u001b[0m\u001b[1;32m      4\u001b[0m         \u001b[0;32mif\u001b[0m \u001b[0mfldr\u001b[0m\u001b[0;34m.\u001b[0m\u001b[0mis_dir\u001b[0m\u001b[0;34m(\u001b[0m\u001b[0;34m)\u001b[0m\u001b[0;34m:\u001b[0m\u001b[0;34m\u001b[0m\u001b[0;34m\u001b[0m\u001b[0m\n\u001b[1;32m      5\u001b[0m             \u001b[0mm\u001b[0m \u001b[0;34m=\u001b[0m \u001b[0mre\u001b[0m\u001b[0;34m.\u001b[0m\u001b[0mmatch\u001b[0m\u001b[0;34m(\u001b[0m\u001b[0;34mr\"^ep([0-9]+)$\"\u001b[0m\u001b[0;34m,\u001b[0m \u001b[0mfldr\u001b[0m\u001b[0;34m.\u001b[0m\u001b[0mname\u001b[0m\u001b[0;34m)\u001b[0m\u001b[0;34m\u001b[0m\u001b[0;34m\u001b[0m\u001b[0m\n",
      "\u001b[0;32m/usr/lib/python3.8/pathlib.py\u001b[0m in \u001b[0;36miterdir\u001b[0;34m(self)\u001b[0m\n\u001b[1;32m   1116\u001b[0m         \u001b[0;32mif\u001b[0m \u001b[0mself\u001b[0m\u001b[0;34m.\u001b[0m\u001b[0m_closed\u001b[0m\u001b[0;34m:\u001b[0m\u001b[0;34m\u001b[0m\u001b[0;34m\u001b[0m\u001b[0m\n\u001b[1;32m   1117\u001b[0m             \u001b[0mself\u001b[0m\u001b[0;34m.\u001b[0m\u001b[0m_raise_closed\u001b[0m\u001b[0;34m(\u001b[0m\u001b[0;34m)\u001b[0m\u001b[0;34m\u001b[0m\u001b[0;34m\u001b[0m\u001b[0m\n\u001b[0;32m-> 1118\u001b[0;31m         \u001b[0;32mfor\u001b[0m \u001b[0mname\u001b[0m \u001b[0;32min\u001b[0m \u001b[0mself\u001b[0m\u001b[0;34m.\u001b[0m\u001b[0m_accessor\u001b[0m\u001b[0;34m.\u001b[0m\u001b[0mlistdir\u001b[0m\u001b[0;34m(\u001b[0m\u001b[0mself\u001b[0m\u001b[0;34m)\u001b[0m\u001b[0;34m:\u001b[0m\u001b[0;34m\u001b[0m\u001b[0;34m\u001b[0m\u001b[0m\n\u001b[0m\u001b[1;32m   1119\u001b[0m             \u001b[0;32mif\u001b[0m \u001b[0mname\u001b[0m \u001b[0;32min\u001b[0m \u001b[0;34m{\u001b[0m\u001b[0;34m'.'\u001b[0m\u001b[0;34m,\u001b[0m \u001b[0;34m'..'\u001b[0m\u001b[0;34m}\u001b[0m\u001b[0;34m:\u001b[0m\u001b[0;34m\u001b[0m\u001b[0;34m\u001b[0m\u001b[0m\n\u001b[1;32m   1120\u001b[0m                 \u001b[0;31m# Yielding a path object for these makes little sense\u001b[0m\u001b[0;34m\u001b[0m\u001b[0;34m\u001b[0m\u001b[0;34m\u001b[0m\u001b[0m\n",
      "\u001b[0;31mFileNotFoundError\u001b[0m: [Errno 2] No such file or directory: 'saves/YYYY_MM_DD_hh_mm_ss'"
     ]
    }
   ],
   "source": [
    "stats_filename = \"test_ep_stats.txt\"   # <--- CHOOSE \"ep_stats.txt\" OR \"test_ep_stats.txt\"\n",
    "\n",
    "returns = read_returns(stats_filename)\n",
    "\n",
    "plot_data(returns, \"Episode Cumulative Reward\", \"Cumulative Reward\", smoothing_window=5)"
   ]
  },
  {
   "cell_type": "code",
   "execution_count": null,
   "metadata": {},
   "outputs": [],
   "source": []
  }
 ],
 "metadata": {
  "kernelspec": {
   "display_name": "Python 3",
   "language": "python",
   "name": "python3"
  },
  "language_info": {
   "codemirror_mode": {
    "name": "ipython",
    "version": 3
   },
   "file_extension": ".py",
   "mimetype": "text/x-python",
   "name": "python",
   "nbconvert_exporter": "python",
   "pygments_lexer": "ipython3",
   "version": "3.8.5"
  }
 },
 "nbformat": 4,
 "nbformat_minor": 4
}
